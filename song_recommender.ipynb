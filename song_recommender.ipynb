{
 "cells": [
  {
   "cell_type": "code",
   "execution_count": 5,
   "id": "97e1eef2",
   "metadata": {},
   "outputs": [],
   "source": [
    "from spotipy.oauth2 import SpotifyClientCredentials\n",
    "import spotipy\n",
    "from config import *\n",
    "import lib.song_recommender as sr"
   ]
  },
  {
   "cell_type": "code",
   "execution_count": 2,
   "id": "2681802e",
   "metadata": {},
   "outputs": [],
   "source": [
    "sp = spotipy.Spotify(auth_manager=SpotifyClientCredentials(client_id= client_id,\n",
    "                                                           client_secret= client_secret))"
   ]
  },
  {
   "cell_type": "code",
   "execution_count": 3,
   "id": "9762afed",
   "metadata": {},
   "outputs": [
    {
     "name": "stdout",
     "output_type": "stream",
     "text": [
      "Enter a song: Clarity\n",
      "Enter the song's artist: John Mayer\n"
     ]
    }
   ],
   "source": [
    "songs = [input(\"Enter a song: \")]\n",
    "artists = [input(\"Enter the song's artist: \")]"
   ]
  },
  {
   "cell_type": "code",
   "execution_count": 6,
   "id": "ebd4acbc",
   "metadata": {},
   "outputs": [
    {
     "name": "stdout",
     "output_type": "stream",
     "text": [
      "Recommended song for user:  Son Of A Sinner / Song artist:  Jelly Roll\n"
     ]
    }
   ],
   "source": [
    "sr.song_recommender(sp, songs, artists)"
   ]
  },
  {
   "cell_type": "code",
   "execution_count": null,
   "id": "fe62fdcf",
   "metadata": {},
   "outputs": [],
   "source": []
  }
 ],
 "metadata": {
  "kernelspec": {
   "display_name": "Python 3 (ipykernel)",
   "language": "python",
   "name": "python3"
  },
  "language_info": {
   "codemirror_mode": {
    "name": "ipython",
    "version": 3
   },
   "file_extension": ".py",
   "mimetype": "text/x-python",
   "name": "python",
   "nbconvert_exporter": "python",
   "pygments_lexer": "ipython3",
   "version": "3.9.12"
  }
 },
 "nbformat": 4,
 "nbformat_minor": 5
}
